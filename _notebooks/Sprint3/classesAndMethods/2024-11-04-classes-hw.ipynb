{
  "cells": [
    {
      "cell_type": "code",
      "execution_count": null,
      "metadata": {},
      "outputs": [],
      "source": [
        "---\n",
        "comments: true\n",
        "layout: post\n",
        "title: JavaScript Classes & Methods Homework\n",
        "description: The JavaScript Classes & Methods Homework assignment for the JavaScript Fundamentals course.\n",
        "author: Lucas Masterson\n",
        "permalink: /csse/javascript/fundamentals/classes/hw/\n",
        "categories: [JavaScript Fundamentals]\n",
        "---"
      ]
    },
    {
      "cell_type": "markdown",
      "metadata": {},
      "source": [
        "# Classes & Methods Homework\n",
        "****"
      ]
    },
    {
      "cell_type": "markdown",
      "metadata": {},
      "source": [
        "## Homework!\n",
        "\n",
        "As you read through this, notice the new content introduced. We encourage you to do your own research (this can be Google, ChatGPT, documentation, etc.). Here, we introduce the `_` property (memory safety), `extends` keyword, and `super()` method.\n",
        "\n",
        "To complete the homework, implement the `TODO:` comments. The example usage should guide you and work if all implementation is done correctly. Have fun! \n",
        "\n",
        "*If anything simply cannot go wrong, it will anyway.*"
      ]
    },
    {
      "cell_type": "code",
      "execution_count": 25,
      "metadata": {
        "vscode": {
          "languageId": "javascript"
        }
      },
      "outputs": [
        {
          "data": {
            "application/javascript": "\nclass Vehicle {\n    // Constructor\n    constructor(model, capacity, range, terrain) {\n        this._model = model; //model of vehicle\n        this._capacity = capacity; //number of people\n        this._range = range; // range on one tank of fuel\n        this._terrain = terrain // air, ground, water\n    }\n    //gets Vehicle model\n    getModel() {\n        return this._model;\n    }\n    //change Vehicle model\n    setModel(newModel) {\n        this._model = newModel;\n    }\n    // get Vehicle capacity \n    getCapacity() {\n        return this._capacity;\n    }\n    // change Vehicle capacity\n    setCapacity(newCapacity) {\n        this._capacity = newCapacity;\n    }\n    // get Vehicle range on a full tank\n    getRange() {\n        return this._range\n    }\n    //change range\n    setRange(newRange) {\n        this._range = newRange\n    }\n    //gets terrain\n    getTerrain(){\n        return this._t
