class Vehicle {
    // Constructor
    constructor(model, capacity, range, terrain) {
        this._model = model; //model of vehicle
        this._capacity = capacity; //number of people
        this._range = range; // range on one tank of fuel
        this._terrain = terrain // air, ground, water
    }
    //gets Vehicle model
    getModel() {
        return this._model;
    }
    //change Vehicle model
    setModel(newModel) {
        this._model = newModel;
    }
    // get Vehicle capacity 
    getCapacity() {
        return this._capacity;
    }
    // change Vehicle capacity
    setCapacity(newCapacity) {
        this._capacity = newCapacity;
    }
    // get Vehicle range on a full tank
    getRange() {
        return this._range
    }
    //change range
    setRange(newRange) {
        this._range = newRange
    }
    //gets terrain
    getTerrain() {
        return this._terrain
    }
    //return details
    displayDetails() {
        return this
    }
    //compares ranges
    static compareRange(aircraft1, aircraft2) {
        return aircraft1.range - aircraft2.range;
    }
}

class FighterJet extends Vehicle {
    constructor(model, capacity, range, speed, terrain) {
        super(model, capacity, range, "air"); 
        this._speed = speed;
    }

    getSpeed() {
        return this._speed
    }

    setSpeed(newSpeed) {
        this._speed = newSpeed
    }

    displayDetails() {
        return this
    }
}

class Boat extends Vehicle{

    constructor(model, capacity, range, speed, terrain){
        super(model, capacity, range, "water"); 
        this._speed = speed;
    }

}

class Car extends Vehicle{

    constructor(model, capacity, range, speed, terrain){
        super(model, capacity, range, "land"); 
        this._speed = speed;
    }

}

// Jets
let f16 = new FighterJet('F-16', 1, 4220, 2400);
let f22 = new FighterJet('F-22', 1, 2960, 2410);

console.log(f16.displayDetails());
console.log(f22.displayDetails());

// Boats (Changed names)
let luxuryCruiser = new Boat("Luxury Cruiser 3000", 10, 1200, 80);
let speedRacer = new Boat("Speed Racer X", 4, 800, 150);
console.log(luxuryCruiser.displayDetails())
console.log(speedRacer.displayDetails())

// Cars
let ford_F_150 = new Car("Ford f-150", 6, 1000, 140)
let cart = new Car("Shopping cart", 1, 1000, 300)

console.log(ford_F_150.displayDetails())
console.log(cart.displayDetails())
